{
 "cells": [
  {
   "cell_type": "markdown",
   "metadata": {},
   "source": [
    "# ToDo\n",
    "- Uncertainty quantification\n",
    "- Time series of different history"
   ]
  },
  {
   "cell_type": "code",
   "execution_count": 224,
   "metadata": {
    "collapsed": true
   },
   "outputs": [],
   "source": [
    "%matplotlib inline\n",
    "import numpy as np\n",
    "np.random.seed(42)\n",
    "\n",
    "import tensorflow as tf\n",
    "import matplotlib.pyplot as plt\n",
    "\n",
    "from pandas import read_table\n",
    "from keras.models import Model, Sequential\n",
    "from keras.layers import Input, Dense, Conv1D, MaxPooling1D, AveragePooling1D, Dropout, Flatten, GRU, LSTM\n",
    "from keras.optimizers import *"
   ]
  },
  {
   "cell_type": "code",
   "execution_count": 225,
   "metadata": {
    "collapsed": true
   },
   "outputs": [],
   "source": [
    "filename = 'timeseries_data.csv'\n",
    "df = read_table(filename, sep=',')\n",
    "length = len(df)\n",
    "dim = len(df.columns)"
   ]
  },
  {
   "cell_type": "code",
   "execution_count": 226,
   "metadata": {
    "collapsed": true
   },
   "outputs": [],
   "source": [
    "test_length = 9  # test on the last 9 months\n",
    "train_length = length - test_length\n",
    "ts = df.values\n",
    "ts_train = ts[:train_length]"
   ]
  },
  {
   "cell_type": "markdown",
   "metadata": {},
   "source": [
    "______\n",
    "We could use stateful RNN. However, in practice, this is not preferred because:\n",
    "- A long window is sufficient to capture any long-term dependency in the time series\n",
    "- It's impossible to debug after live deployment because the series would grow indefinitely\n",
    "\n",
    "So we will try two window-based approaches: temporal convolution and truncated RNN."
   ]
  },
  {
   "cell_type": "code",
   "execution_count": 227,
   "metadata": {
    "collapsed": true
   },
   "outputs": [],
   "source": [
    "# Normalize data\n",
    "means = ts[:train_length, :].mean(0)\n",
    "stds = ts[:train_length, :].std(0)\n",
    "ts_normed = (ts - means) / stds\n",
    "assert ts_normed.shape == ts.shape and np.sum(np.isnan(ts_normed)) == 0"
   ]
  },
  {
   "cell_type": "code",
   "execution_count": 228,
   "metadata": {
    "collapsed": true
   },
   "outputs": [],
   "source": [
    "sequence_length = 20\n",
    "\n",
    "# Generate X and y for train/test\n",
    "# Xs are 3D tensors of shape number of sequences * sequence length * dim\n",
    "# ys are 2D tensors of shape number of sequences * dim\n",
    "X_train, y_train, X_test, y_test = [], [], [], []\n",
    "\n",
    "for i in range(train_length - sequence_length):\n",
    "    X_train.append(ts_normed[i:i+sequence_length])\n",
    "    y_train.append(ts_normed[i+sequence_length])\n",
    "\n",
    "for i in range(-test_length, 0):\n",
    "    y_test.append(ts_normed[i])\n",
    "    X_test.append(ts_normed[i-sequence_length:i])\n",
    "    \n",
    "X_train, y_train = np.array(X_train), np.array(y_train)\n",
    "X_test, y_test = np.array(X_test), np.array(y_test)\n",
    "\n",
    "def compute_mape(model, x, y):\n",
    "    forecasts = model.predict(x, batch_size=len(x))\n",
    "    forecasts = (forecasts * stds) + means\n",
    "    y_denom = (y * stds) + means\n",
    "    return np.mean(np.abs((y_denom - forecasts) / y_denom))\n",
    "    \n",
    "def test(model):\n",
    "    print('Train Mean Absolute Percentage Error (MAPE): {0:.3f}'.format(compute_mape(model, X_train, y_train)))\n",
    "    print('Test Mean Absolute Percentage Error (MAPE): {0:.3f}'.format(compute_mape(model, X_test, y_test)))"
   ]
  },
  {
   "cell_type": "markdown",
   "metadata": {},
   "source": [
    "### Temporal Convolution"
   ]
  },
  {
   "cell_type": "code",
   "execution_count": 240,
   "metadata": {},
   "outputs": [
    {
     "name": "stdout",
     "output_type": "stream",
     "text": [
      "Creating Model\n",
      "Training\n",
      "Min. training loss: 0.055\n",
      "Testing\n",
      "Train Mean Absolute Percentage Error (MAPE): 0.121\n",
      "Test Mean Absolute Percentage Error (MAPE): 0.145\n"
     ]
    },
    {
     "data": {
      "image/png": "[encoded data removed]",
      "text/plain": [
       "<matplotlib.figure.Figure at 0x7feef34d7cc0>"
      ]
     },
     "metadata": {},
     "output_type": "display_data"
    }
   ],
   "source": [
    "from keras.layers.advanced_activations import ELU\n",
    "# Hyper parameters\n",
    "n_layers = 1\n",
    "activation = ELU()\n",
    "batch_size = 8\n",
    "epochs = 50\n",
    "\n",
    "print('Creating Model')\n",
    "sequence_input = Input(shape=(sequence_length, dim))\n",
    "x = Conv1D(64, 5, activation=activation, init='glorot_normal')(sequence_input)\n",
    "# dim: 16 x 64\n",
    "x = MaxPooling1D(3, stride=1)(x)\n",
    "# x = AveragePooling1D(pool_length=2, stride=1)(x)\n",
    "# dim: 14 x 64\n",
    "x = Conv1D(64, 3, activation=activation, init='glorot_normal')(x)\n",
    "# dim: 12 x 64\n",
    "x = MaxPooling1D(4, stride=2)(x)  # global max pooling\n",
    "# x = AveragePooling1D(pool_length=4, stride=1)(x)\n",
    "# dim: 5 x 64\n",
    "x = Conv1D(128, 3, activation=activation, init='glorot_normal')(x)\n",
    "# dim: 3 x 128\n",
    "x = MaxPooling1D(3, stride=1)(x)  # global max pooling\n",
    "# x = AveragePooling1D(pool_length=4, stride=1)(x)\n",
    "# dim: 1 x 128\n",
    "x = Flatten()(x)\n",
    "x = Dense(128, activation=activation, init='glorot_normal')(x)\n",
    "# x = Dropout(0.5)(x)\n",
    "preds = Dense(dim)(x)\n",
    "model = Model(sequence_input, preds)\n",
    "\n",
    "# sgd = Nadam(lr=999, schedule_decay=0.1)\n",
    "# sgd = Nadam(lr=0.1, schedule_decay=0.01)\n",
    "# sgd = RMSprop(lr=0.1)\n",
    "# sgd = SGD(lr=0.01, momentum=0.9, decay=0.1, nesterov=False)\n",
    "# model.compile(loss='mape', optimizer=sgd, metrics=['mape'])\n",
    "sgd = SGD(lr=0.1, momentum=0.9, decay=0.1, nesterov=False)\n",
    "model.compile(loss='mse', optimizer=sgd, metrics=['mape'])\n",
    "\n",
    "print('Training')\n",
    "history = model.fit(X_train, y_train, batch_size=batch_size, nb_epoch=epochs, \n",
    "                    verbose=0, validation_split=0.0)\n",
    "\n",
    "plt.figure(figsize=(15,6))\n",
    "plt.subplot(211)\n",
    "plt.plot(history.epoch, history.history['loss'], 'r') \n",
    "# plt.plot(history.epoch, history.history['val_loss'], 'b')\n",
    "plt.ylim(0, 2)\n",
    "plt.subplot(212)\n",
    "plt.plot(history.epoch, history.history['mean_absolute_percentage_error'], 'r')\n",
    "#plt.plot(history.epoch, history.history['val_mean_absolute_percentage_error'], 'b')\n",
    "plt.ylim(0, 200)\n",
    "\n",
    "print('Min. training loss: {0:.3f}'.format(min(history.history['loss'])))\n",
    "# print('Min. validation loss: {1:.3f}'.format(min(history.history['val_loss'])))\n",
    "print('Testing')\n",
    "test(model)"
   ]
  },
  {
   "cell_type": "markdown",
   "metadata": {},
   "source": [
    "### RNN"
   ]
  },
  {
   "cell_type": "code",
   "execution_count": 242,
   "metadata": {
    "scrolled": false
   },
   "outputs": [
    {
     "name": "stdout",
     "output_type": "stream",
     "text": [
      "Creating Model\n",
      "Training\n",
      "Min. training loss: 0.048\n",
      "Testing\n",
      "Train Mean Absolute Percentage Error (MAPE): 0.200\n",
      "Test Mean Absolute Percentage Error (MAPE): 0.191\n"
     ]
    },
    {
     "data": {
      "image/png": "[encoded data removed]",
      "text/plain": [
       "<matplotlib.figure.Figure at 0x7feef220fd30>"
      ]
     },
     "metadata": {},
     "output_type": "display_data"
    }
   ],
   "source": [
    "# Hyper parameters\n",
    "num_rnn_layers = 1\n",
    "num_rnn_units = 128\n",
    "batch_size = 8\n",
    "epochs = 50\n",
    "\n",
    "print('Creating Model')\n",
    "model = Sequential()\n",
    "for i in range(num_rnn_layers):\n",
    "    model.add(GRU(num_rnn_units, \n",
    "                  input_length=sequence_length, input_dim=dim,\n",
    "                  return_sequences=True if i < num_rnn_layers-1 else False))\n",
    "model.add(Dense(dim, init='glorot_normal'))\n",
    "#sgd = SGD(lr=999999, decay=1e-4, nesterov=True)\n",
    "#sgd = Nadam(lr=999, schedule_decay=0.1)\n",
    "# sgd = Nadam(lr=0.01, schedule_decay=0.1)\n",
    "# model.compile(loss='mape', optimizer=sgd, metrics=['mape', 'mse'])\n",
    "# sgd = Nadam(lr=0.1, schedule_decay=1e-2)\n",
    "# sgd = SGD(lr=0.01, momentum=0.5, decay=1e-3)\n",
    "sgd = RMSprop(lr=0.01)\n",
    "model.compile(loss='mse', optimizer=sgd, metrics=['mape'])\n",
    "\n",
    "print('Training')\n",
    "history = model.fit(X_train, y_train, batch_size=batch_size, nb_epoch=epochs, \n",
    "                    verbose=0, validation_split=0.0)\n",
    "\n",
    "plt.figure(figsize=(15,6))\n",
    "plt.subplot(211)\n",
    "plt.plot(history.epoch, history.history['loss'], 'r') \n",
    "# plt.plot(history.epoch, history.history['val_loss'], 'b')\n",
    "plt.ylim(0, 2)\n",
    "plt.subplot(212)\n",
    "plt.plot(history.epoch, history.history['mean_absolute_percentage_error'], 'r')\n",
    "# plt.plot(history.epoch, history.history['val_mean_absolute_percentage_error'], 'b')\n",
    "plt.ylim(0, 200)\n",
    "\n",
    "print('Min. training loss: {0:.3f}'.format(min(history.history['loss'])))\n",
    "# print('Min. validation loss: {1:.3f}'.format(min(history.history['val_loss'])))\n",
    "\n",
    "print('Testing')\n",
    "test(model)"
   ]
  }
 ],
 "metadata": {
  "kernelspec": {
   "display_name": "Anaconda",
   "language": "python",
   "name": "python3"
  },
  "language_info": {
   "codemirror_mode": {
    "name": "ipython",
    "version": 3
   },
   "file_extension": ".py",
   "mimetype": "text/x-python",
   "name": "python",
   "nbconvert_exporter": "python",
   "pygments_lexer": "ipython3",
   "version": "3.6.1"
  }
 },
 "nbformat": 4,
 "nbformat_minor": 1
}
