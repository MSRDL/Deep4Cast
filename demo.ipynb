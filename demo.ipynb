{
 "cells": [
  {
   "cell_type": "markdown",
   "metadata": {},
   "source": [
    "# Time-series Anomaly Detection\n",
    "This demo shows how to use a novel SLS (Streaming Least Squares) anomaly detection algorithm and how it performs\n"
   ]
  },
  {
   "cell_type": "code",
   "execution_count": 1,
   "metadata": {},
   "outputs": [
    {
     "name": "stdout",
     "output_type": "stream",
     "text": [
      "Populating the interactive namespace from numpy and matplotlib\n"
     ]
    }
   ],
   "source": [
    "%pylab inline\n",
    "rcParams['figure.figsize'] = [16, 3]\n",
    "import pandas as pd"
   ]
  },
  {
   "cell_type": "markdown",
   "metadata": {},
   "source": [
    "First, let's take a quick look at our sample time-series data file, which consists of 2 columns: datetime and counter value, aggregated every 15 minutes."
   ]
  },
  {
   "cell_type": "code",
   "execution_count": 2,
   "metadata": {},
   "outputs": [
    {
     "data": {
      "text/html": [
       "<div>\n",
       "<style>\n",
       "    .dataframe thead tr:only-child th {\n",
       "        text-align: right;\n",
       "    }\n",
       "\n",
       "    .dataframe thead th {\n",
       "        text-align: left;\n",
       "    }\n",
       "\n",
       "    .dataframe tbody tr th {\n",
       "        vertical-align: top;\n",
       "    }\n",
       "</style>\n",
       "<table border=\"1\" class=\"dataframe\">\n",
       "  <thead>\n",
       "    <tr style=\"text-align: right;\">\n",
       "      <th></th>\n",
       "      <th>Counter</th>\n",
       "    </tr>\n",
       "    <tr>\n",
       "      <th>Date</th>\n",
       "      <th></th>\n",
       "    </tr>\n",
       "  </thead>\n",
       "  <tbody>\n",
       "    <tr>\n",
       "      <th>2014-08-31 15:15:00</th>\n",
       "      <td>800</td>\n",
       "    </tr>\n",
       "    <tr>\n",
       "      <th>2014-08-31 15:30:00</th>\n",
       "      <td>685</td>\n",
       "    </tr>\n",
       "    <tr>\n",
       "      <th>2014-08-31 15:45:00</th>\n",
       "      <td>642</td>\n",
       "    </tr>\n",
       "    <tr>\n",
       "      <th>2014-08-31 16:00:00</th>\n",
       "      <td>637</td>\n",
       "    </tr>\n",
       "    <tr>\n",
       "      <th>2014-08-31 16:15:00</th>\n",
       "      <td>648</td>\n",
       "    </tr>\n",
       "    <tr>\n",
       "      <th>2014-08-31 16:30:00</th>\n",
       "      <td>802</td>\n",
       "    </tr>\n",
       "    <tr>\n",
       "      <th>2014-08-31 16:45:00</th>\n",
       "      <td>804</td>\n",
       "    </tr>\n",
       "    <tr>\n",
       "      <th>2014-08-31 17:00:00</th>\n",
       "      <td>814</td>\n",
       "    </tr>\n",
       "    <tr>\n",
       "      <th>2014-08-31 17:15:00</th>\n",
       "      <td>646</td>\n",
       "    </tr>\n",
       "    <tr>\n",
       "      <th>2014-08-31 17:30:00</th>\n",
       "      <td>628</td>\n",
       "    </tr>\n",
       "  </tbody>\n",
       "</table>\n",
       "</div>"
      ],
      "text/plain": [
       "                     Counter\n",
       "Date                        \n",
       "2014-08-31 15:15:00      800\n",
       "2014-08-31 15:30:00      685\n",
       "2014-08-31 15:45:00      642\n",
       "2014-08-31 16:00:00      637\n",
       "2014-08-31 16:15:00      648\n",
       "2014-08-31 16:30:00      802\n",
       "2014-08-31 16:45:00      804\n",
       "2014-08-31 17:00:00      814\n",
       "2014-08-31 17:15:00      646\n",
       "2014-08-31 17:30:00      628"
      ]
     },
     "execution_count": 2,
     "metadata": {},
     "output_type": "execute_result"
    }
   ],
   "source": [
    "df = pd.read_csv('data/sample.csv', parse_dates=True, index_col=0)\n",
    "data = df['Counter']\n",
    "df.head(10)"
   ]
  },
  {
   "cell_type": "markdown",
   "metadata": {},
   "source": [
    "Now, simply import the Time Series module and run the DetectAnomalies function."
   ]
  },
  {
   "cell_type": "code",
   "execution_count": 3,
   "metadata": {},
   "outputs": [],
   "source": [
    "from AnomalyDetection import detect_anomalies"
   ]
  },
  {
   "cell_type": "code",
   "execution_count": 4,
   "metadata": {
    "scrolled": false
   },
   "outputs": [
    {
     "data": {
      "text/html": [
       "<div>\n",
       "<style>\n",
       "    .dataframe thead tr:only-child th {\n",
       "        text-align: right;\n",
       "    }\n",
       "\n",
       "    .dataframe thead th {\n",
       "        text-align: left;\n",
       "    }\n",
       "\n",
       "    .dataframe tbody tr th {\n",
       "        vertical-align: top;\n",
       "    }\n",
       "</style>\n",
       "<table border=\"1\" class=\"dataframe\">\n",
       "  <thead>\n",
       "    <tr style=\"text-align: right;\">\n",
       "      <th></th>\n",
       "      <th>level</th>\n",
       "      <th>start</th>\n",
       "      <th>end</th>\n",
       "      <th>score</th>\n",
       "    </tr>\n",
       "  </thead>\n",
       "  <tbody>\n",
       "    <tr>\n",
       "      <th>0</th>\n",
       "      <td>5</td>\n",
       "      <td>2014-09-08 22:15:00</td>\n",
       "      <td>2014-09-09 03:00:00</td>\n",
       "      <td>9827.845647</td>\n",
       "    </tr>\n",
       "    <tr>\n",
       "      <th>1</th>\n",
       "      <td>4</td>\n",
       "      <td>2014-09-09 17:45:00</td>\n",
       "      <td>2014-09-09 22:30:00</td>\n",
       "      <td>8545.505790</td>\n",
       "    </tr>\n",
       "    <tr>\n",
       "      <th>2</th>\n",
       "      <td>3</td>\n",
       "      <td>2014-10-20 16:00:00</td>\n",
       "      <td>2014-10-20 20:45:00</td>\n",
       "      <td>6579.968928</td>\n",
       "    </tr>\n",
       "    <tr>\n",
       "      <th>3</th>\n",
       "      <td>2</td>\n",
       "      <td>2014-10-23 08:45:00</td>\n",
       "      <td>2014-10-23 13:30:00</td>\n",
       "      <td>4118.137916</td>\n",
       "    </tr>\n",
       "    <tr>\n",
       "      <th>4</th>\n",
       "      <td>1</td>\n",
       "      <td>2014-10-24 16:00:00</td>\n",
       "      <td>2014-10-24 20:45:00</td>\n",
       "      <td>3370.247811</td>\n",
       "    </tr>\n",
       "    <tr>\n",
       "      <th>5</th>\n",
       "      <td>1</td>\n",
       "      <td>2014-10-22 15:45:00</td>\n",
       "      <td>2014-10-22 20:30:00</td>\n",
       "      <td>2739.181531</td>\n",
       "    </tr>\n",
       "    <tr>\n",
       "      <th>6</th>\n",
       "      <td>1</td>\n",
       "      <td>2014-10-02 11:45:00</td>\n",
       "      <td>2014-10-02 16:30:00</td>\n",
       "      <td>2548.604885</td>\n",
       "    </tr>\n",
       "    <tr>\n",
       "      <th>7</th>\n",
       "      <td>1</td>\n",
       "      <td>2014-09-08 17:15:00</td>\n",
       "      <td>2014-09-08 22:00:00</td>\n",
       "      <td>2012.427544</td>\n",
       "    </tr>\n",
       "  </tbody>\n",
       "</table>\n",
       "</div>"
      ],
      "text/plain": [
       "   level                start                  end        score\n",
       "0      5  2014-09-08 22:15:00  2014-09-09 03:00:00  9827.845647\n",
       "1      4  2014-09-09 17:45:00  2014-09-09 22:30:00  8545.505790\n",
       "2      3  2014-10-20 16:00:00  2014-10-20 20:45:00  6579.968928\n",
       "3      2  2014-10-23 08:45:00  2014-10-23 13:30:00  4118.137916\n",
       "4      1  2014-10-24 16:00:00  2014-10-24 20:45:00  3370.247811\n",
       "5      1  2014-10-22 15:45:00  2014-10-22 20:30:00  2739.181531\n",
       "6      1  2014-10-02 11:45:00  2014-10-02 16:30:00  2548.604885\n",
       "7      1  2014-09-08 17:15:00  2014-09-08 22:00:00  2012.427544"
      ]
     },
     "metadata": {},
     "output_type": "display_data"
    },
    {
     "data": {
      "image/png": "[encoded data removed]",
      "text/plain": [
       "<matplotlib.figure.Figure at 0x7f8435711dd8>"
      ]
     },
     "metadata": {},
     "output_type": "display_data"
    }
   ],
   "source": [
    "anomalies, thresholds = detect_anomalies(data, lag=20, num_anomalies=8)"
   ]
  },
  {
   "cell_type": "markdown",
   "metadata": {},
   "source": [
    "For this problem, we're interested in detecting anomalous spikes in the data. The same algorithm can be used for detecting dips as well, e.g. outages (sudden drop in sessions server)."
   ]
  },
  {
   "cell_type": "markdown",
   "metadata": {},
   "source": [
    "_____\n",
    "\n",
    "## Model deployment for real-time anomaly detection\n",
    "\n",
    "The demo here is for evaluting the effectiveness of the algorithm on historical data. To deploy the model for **real-time** detection on streaming data, follow this C++ API.\n",
    "\n",
    "<pre>    <span style=' color: Blue;'>typedef</span> <span style=' color: Blue;'>std</span>::vector&lt;<span style=' color: Blue;'>float</span>&gt; FloatVec; \n",
    "\n",
    "    <span style=' color: Blue;'>class</span> AnomalyDetector { \n",
    "    <span style=' color: Blue;'>public</span>: \n",
    "        <span style=' color: Green;'>/// Alert Thresholds, which can be updated (if needed) live without breaking the service</span>\n",
    "        FloatVec Thresholds; \n",
    "\n",
    "        <span style=' color: Green;'>/// Instantiate the detector from window size and Thresholds</span>\n",
    "        AnomalyDetector(<span style=' color: Blue;'>int</span> windowSize, FloatVec&gt;&amp; thresholds); \n",
    "\n",
    "        <span style=' color: Green;'>/// Instantiate the detector from a saved model file</span> \n",
    "        AnomalyDetector(<span style=' color: Blue;'>const</span> <span style=' color: Blue;'>char</span>* modelFile);\n",
    "         \n",
    "        <span style=' color: Green;'>/// Save the detector to a model file</span> \n",
    "        <span style=' color: Blue;'>void</span> Save(<span style=' color: Blue;'>const</span> <span style=' color: Blue;'>char</span>* modelFile);\n",
    "         \n",
    "        <span style=' color: Green;'>/// Predict takes an incoming counter value and returns the alert level (0 means no anomaly).</span> \n",
    "        <span style=' color: Green;'>/// It also produces auxiliary outputs such as trend and the anomaly score </span>\n",
    "        <span style=' color: Blue;'>int</span> Predict(<span style=' color: Blue;'>float</span> value, <span style=' color: Blue;'>float</span>&amp; trend, <span style=' color: Blue;'>float</span>&amp; score);\n",
    "    };</pre>\n",
    "\n",
    "1. Instantiate the anomaly detector from the model file.\n",
    "2. Then, for each new counter value, call *Predict* to get the alert level as well as the trend and anomaly score.\n",
    "\n",
    "### Bulk Predict\n",
    "We also provide a bulk predict API for handling multiple signals in parallel (via *OpenMP*).\n",
    "<pre>    <span style=' color: Blue;'>class</span> BulkAnomalyDetector { \n",
    "9se    <span style=' color: Blue;'>public</span>: \n",
    "        <span style=' color: Blue;'>std</span>::vector&lt;FloatVec&gt; Thresholds; \n",
    "\n",
    "        <span style=' color: Green;'>/// Instantiate the detectors from a zipped container of model files</span>\n",
    "        BulkAnomalyDetector(<span style=' color: Blue;'>const</span> <span style=' color: Blue;'>char</span>* modelsContainerFile);\n",
    "\n",
    "        <span style=' color: Blue;'>std</span>::vector&lt;<span style=' color: Blue;'>int</span>&gt; BulkPredict(<span style=' color: Blue;'>const</span> FloatVec&amp; value, FloatVec&amp; trends, FloatVec&amp; scores);\n",
    "    }; \n",
    "</pre>\n",
    "\n",
    "### Python Interface\n",
    "We also provide Python bindings if the rest of your services is in Python."
   ]
  }
 ],
 "metadata": {
  "kernelspec": {
   "display_name": "Python 3",
   "language": "python",
   "name": "python3"
  },
  "language_info": {
   "codemirror_mode": {
    "name": "ipython",
    "version": 3
   },
   "file_extension": ".py",
   "mimetype": "text/x-python",
   "name": "python",
   "nbconvert_exporter": "python",
   "pygments_lexer": "ipython3",
   "version": "3.6.1"
  }
 },
 "nbformat": 4,
 "nbformat_minor": 1
}
